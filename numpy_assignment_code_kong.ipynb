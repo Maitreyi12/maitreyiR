{
  "nbformat": 4,
  "nbformat_minor": 0,
  "metadata": {
    "colab": {
      "name": "numpy_assignment_code_kong.ipynb",
      "provenance": [],
      "include_colab_link": true
    },
    "kernelspec": {
      "name": "python3",
      "display_name": "Python 3"
    },
    "language_info": {
      "name": "python"
    }
  },
  "cells": [
    {
      "cell_type": "markdown",
      "metadata": {
        "id": "view-in-github",
        "colab_type": "text"
      },
      "source": [
        "<a href=\"https://colab.research.google.com/github/Maitreyi12/maitreyiR/blob/main/numpy_assignment_code_kong.ipynb\" target=\"_parent\"><img src=\"https://colab.research.google.com/assets/colab-badge.svg\" alt=\"Open In Colab\"/></a>"
      ]
    },
    {
      "cell_type": "markdown",
      "metadata": {
        "id": "8820A7gq8d73"
      },
      "source": [
        "# Numpy assignment"
      ]
    },
    {
      "cell_type": "markdown",
      "metadata": {
        "id": "GOJm3tt48lev"
      },
      "source": [
        "## 1. Import numpy "
      ]
    },
    {
      "cell_type": "code",
      "metadata": {
        "id": "gy4YwZG58aBS"
      },
      "source": [
        "import numpy as np"
      ],
      "execution_count": 1,
      "outputs": []
    },
    {
      "cell_type": "markdown",
      "metadata": {
        "id": "kXdX6fZE8qyo"
      },
      "source": [
        "## 2. Create an array of 10 zeroes"
      ]
    },
    {
      "cell_type": "code",
      "metadata": {
        "id": "KfpKzoMi8xCh",
        "colab": {
          "base_uri": "https://localhost:8080/"
        },
        "outputId": "26675683-f689-412d-c233-92af76820d51"
      },
      "source": [
        "import numpy as np\n",
        "array=np.zeros(10)\n",
        "print(\"An array of 10 zeros:\")\n",
        "print(array)"
      ],
      "execution_count": 2,
      "outputs": [
        {
          "output_type": "stream",
          "name": "stdout",
          "text": [
            "An array of 10 zeros:\n",
            "[0. 0. 0. 0. 0. 0. 0. 0. 0. 0.]\n"
          ]
        }
      ]
    },
    {
      "cell_type": "markdown",
      "metadata": {
        "id": "Y99t611H8xqX"
      },
      "source": [
        "## 3. Create an array of 10 ones"
      ]
    },
    {
      "cell_type": "code",
      "metadata": {
        "id": "oTcw5FrZ83Zi",
        "colab": {
          "base_uri": "https://localhost:8080/"
        },
        "outputId": "8515e7b5-479b-4699-f7c3-d3f841b0b4bd"
      },
      "source": [
        "import numpy as np\n",
        "array=np.ones(10)\n",
        "print(\"An array of 10 ones:\")\n",
        "print(array)"
      ],
      "execution_count": 3,
      "outputs": [
        {
          "output_type": "stream",
          "name": "stdout",
          "text": [
            "An array of 10 ones:\n",
            "[1. 1. 1. 1. 1. 1. 1. 1. 1. 1.]\n"
          ]
        }
      ]
    },
    {
      "cell_type": "markdown",
      "metadata": {
        "id": "h2yw4BMU83yD"
      },
      "source": [
        "## 4. Create an array of 10 fives"
      ]
    },
    {
      "cell_type": "code",
      "metadata": {
        "id": "wo5ZFyof89FS",
        "colab": {
          "base_uri": "https://localhost:8080/"
        },
        "outputId": "06edba38-3ba0-4dd3-cbd9-d86b673a2014"
      },
      "source": [
        "import numpy as np\n",
        "array=np.ones(10)*5\n",
        "print(\"An array of 10 fives:\")\n",
        "print(array)"
      ],
      "execution_count": 4,
      "outputs": [
        {
          "output_type": "stream",
          "name": "stdout",
          "text": [
            "An array of 10 fives:\n",
            "[5. 5. 5. 5. 5. 5. 5. 5. 5. 5.]\n"
          ]
        }
      ]
    },
    {
      "cell_type": "markdown",
      "metadata": {
        "id": "t2VTV6oV89qh"
      },
      "source": [
        "## 5. Create an array of integers from 11 to 50"
      ]
    },
    {
      "cell_type": "code",
      "metadata": {
        "id": "pgqg5u8j9M6X",
        "colab": {
          "base_uri": "https://localhost:8080/"
        },
        "outputId": "9c7815a9-5459-461b-95c6-3f9e6d98fc67"
      },
      "source": [
        "import numpy as np\n",
        "array=np.arange(11,51,1)\n",
        "print(\"Array of all the integers from 11 to 50\")\n",
        "print(array)"
      ],
      "execution_count": 6,
      "outputs": [
        {
          "output_type": "stream",
          "name": "stdout",
          "text": [
            "Array of all the integers from 11 to 50\n",
            "[11 12 13 14 15 16 17 18 19 20 21 22 23 24 25 26 27 28 29 30 31 32 33 34\n",
            " 35 36 37 38 39 40 41 42 43 44 45 46 47 48 49 50]\n"
          ]
        }
      ]
    },
    {
      "cell_type": "markdown",
      "metadata": {
        "id": "uA44hF0W9NVg"
      },
      "source": [
        "## 6. Create an array of all the even integers from 11 to 50"
      ]
    },
    {
      "cell_type": "code",
      "metadata": {
        "id": "lk5n3Pw_9Wip",
        "colab": {
          "base_uri": "https://localhost:8080/"
        },
        "outputId": "235366df-1351-46f6-ed00-254e7811ed77"
      },
      "source": [
        "import numpy as np\n",
        "array=np.arange(12,50,2)\n",
        "print(\"Array of all the even integers from 11 to 50\")\n",
        "print(array)"
      ],
      "execution_count": 8,
      "outputs": [
        {
          "output_type": "stream",
          "name": "stdout",
          "text": [
            "Array of all the even integers from 11 to 50\n",
            "[12 14 16 18 20 22 24 26 28 30 32 34 36 38 40 42 44 46 48]\n"
          ]
        }
      ]
    },
    {
      "cell_type": "markdown",
      "metadata": {
        "id": "4qVWaJ199W-R"
      },
      "source": [
        "## 7. Create a 3 * 3 matrices of values from range 0 to 8 "
      ]
    },
    {
      "cell_type": "code",
      "metadata": {
        "id": "rMjavPRT9iwC",
        "colab": {
          "base_uri": "https://localhost:8080/"
        },
        "outputId": "869b05cb-c1cc-486f-9889-a5e9840fca12"
      },
      "source": [
        "import numpy as np\n",
        "x =  np.arange(0, 9).reshape(3,3)\n",
        "print(x)"
      ],
      "execution_count": 9,
      "outputs": [
        {
          "output_type": "stream",
          "name": "stdout",
          "text": [
            "[[0 1 2]\n",
            " [3 4 5]\n",
            " [6 7 8]]\n"
          ]
        }
      ]
    },
    {
      "cell_type": "markdown",
      "metadata": {
        "id": "p_G5GD4x9jRZ"
      },
      "source": [
        "## Use numpy to gentrate a number randomly between 0 and 1"
      ]
    },
    {
      "cell_type": "code",
      "metadata": {
        "id": "F1igDzUc9n8x",
        "colab": {
          "base_uri": "https://localhost:8080/"
        },
        "outputId": "b31e1934-e4d1-44f2-d1ee-08ffb2db26dc"
      },
      "source": [
        "import numpy as np\n",
        "rand_num = np.random.normal(0,1,1)\n",
        "print(\"Random number between 0 and 1:\")\n",
        "print(rand_num)"
      ],
      "execution_count": 10,
      "outputs": [
        {
          "output_type": "stream",
          "name": "stdout",
          "text": [
            "Random number between 0 and 1:\n",
            "[-2.04392394]\n"
          ]
        }
      ]
    },
    {
      "cell_type": "markdown",
      "metadata": {
        "id": "yz9RkN1m9oXh"
      },
      "source": [
        "## Create the following matrices"
      ]
    },
    {
      "cell_type": "markdown",
      "metadata": {
        "id": "GpBLScoS-Bos"
      },
      "source": [
        "### 20 linrarly spaced points between 0 and 2"
      ]
    },
    {
      "cell_type": "code",
      "metadata": {
        "id": "404Fc4jn97kZ",
        "colab": {
          "base_uri": "https://localhost:8080/"
        },
        "outputId": "a64974d9-a05d-49a8-9b28-41875fca3c92"
      },
      "source": [
        "np.linspace(0, 2, 20)"
      ],
      "execution_count": 11,
      "outputs": [
        {
          "output_type": "execute_result",
          "data": {
            "text/plain": [
              "array([0.        , 0.10526316, 0.21052632, 0.31578947, 0.42105263,\n",
              "       0.52631579, 0.63157895, 0.73684211, 0.84210526, 0.94736842,\n",
              "       1.05263158, 1.15789474, 1.26315789, 1.36842105, 1.47368421,\n",
              "       1.57894737, 1.68421053, 1.78947368, 1.89473684, 2.        ])"
            ]
          },
          "metadata": {},
          "execution_count": 11
        }
      ]
    },
    {
      "cell_type": "markdown",
      "metadata": {
        "id": "vv0pclwo-F5L"
      },
      "source": [
        "## Numpy indexing and selection"
      ]
    },
    {
      "cell_type": "code",
      "metadata": {
        "colab": {
          "base_uri": "https://localhost:8080/"
        },
        "id": "5wwSNpSd-SWp",
        "outputId": "4d9ae6ec-e7cb-4cde-efb0-f5ef993dbd84"
      },
      "source": [
        "mat = np.arange(1,26).reshape(5,5)\n",
        "mat"
      ],
      "execution_count": null,
      "outputs": [
        {
          "output_type": "execute_result",
          "data": {
            "text/plain": [
              "array([[ 1,  2,  3,  4,  5],\n",
              "       [ 6,  7,  8,  9, 10],\n",
              "       [11, 12, 13, 14, 15],\n",
              "       [16, 17, 18, 19, 20],\n",
              "       [21, 22, 23, 24, 25]])"
            ]
          },
          "metadata": {},
          "execution_count": 3
        }
      ]
    },
    {
      "cell_type": "markdown",
      "metadata": {
        "id": "iTBZNmAR-tFF"
      },
      "source": [
        "Use the above matrices for the following set of questions"
      ]
    },
    {
      "cell_type": "markdown",
      "metadata": {
        "id": "IkLSFN_e-yLp"
      },
      "source": [
        "### 1. only first value of matrice mat"
      ]
    },
    {
      "cell_type": "code",
      "metadata": {
        "id": "Tf3nZ2lH-m_O",
        "colab": {
          "base_uri": "https://localhost:8080/"
        },
        "outputId": "6a22ba9a-d0f4-4199-d863-d62beef182db"
      },
      "source": [
        "mat = np.arange(1,26).reshape(5,5)\n",
        "mat[0,0]"
      ],
      "execution_count": 28,
      "outputs": [
        {
          "output_type": "execute_result",
          "data": {
            "text/plain": [
              "1"
            ]
          },
          "metadata": {},
          "execution_count": 28
        }
      ]
    },
    {
      "cell_type": "markdown",
      "metadata": {
        "id": "zXlls_1O-36q"
      },
      "source": [
        "### 2. middle value of matrice mat"
      ]
    },
    {
      "cell_type": "code",
      "metadata": {
        "id": "DarfuwIA-9qv",
        "colab": {
          "base_uri": "https://localhost:8080/"
        },
        "outputId": "28145109-d301-4f0e-bd70-5ca7c18425bd"
      },
      "source": [
        "mat = np.arange(1,26).reshape(5,5)\n",
        "mat[:3,:3]"
      ],
      "execution_count": 48,
      "outputs": [
        {
          "output_type": "execute_result",
          "data": {
            "text/plain": [
              "array([[ 1,  2,  3],\n",
              "       [ 6,  7,  8],\n",
              "       [11, 12, 13]])"
            ]
          },
          "metadata": {},
          "execution_count": 48
        }
      ]
    },
    {
      "cell_type": "markdown",
      "metadata": {
        "id": "yHFI_eL_--OQ"
      },
      "source": [
        "### 3. first two rows and last one column values of matrice mat"
      ]
    },
    {
      "cell_type": "code",
      "metadata": {
        "id": "bfM_HR1g_DyB",
        "colab": {
          "base_uri": "https://localhost:8080/"
        },
        "outputId": "86a33ccf-fd8a-4d40-b6e9-bdf4ed5e7883"
      },
      "source": [
        "mat = np.arange(1,26).reshape(5,5)\n",
        "mat[4:5,0:2]"
      ],
      "execution_count": 71,
      "outputs": [
        {
          "output_type": "execute_result",
          "data": {
            "text/plain": [
              "array([[21, 22]])"
            ]
          },
          "metadata": {},
          "execution_count": 71
        }
      ]
    },
    {
      "cell_type": "markdown",
      "metadata": {
        "id": "rALMjOR__EMv"
      },
      "source": [
        "### 4. last row and all column values of matrice mat"
      ]
    },
    {
      "cell_type": "code",
      "metadata": {
        "id": "ZBrYW6Sg_QKH",
        "colab": {
          "base_uri": "https://localhost:8080/"
        },
        "outputId": "82c9e234-2734-4450-a1bc-72d8a61b6735"
      },
      "source": [
        "mat = np.arange(1,26).reshape(5,5)\n",
        "mat[0:5,4:5]"
      ],
      "execution_count": 76,
      "outputs": [
        {
          "output_type": "execute_result",
          "data": {
            "text/plain": [
              "array([[ 5],\n",
              "       [10],\n",
              "       [15],\n",
              "       [20],\n",
              "       [25]])"
            ]
          },
          "metadata": {},
          "execution_count": 76
        }
      ]
    }
  ]
}